{
  "cells": [
    {
      "metadata": {
        "collapsed": true,
        "slideshow": {
          "slide_type": "slide"
        }
      },
      "cell_type": "markdown",
      "source": "# Crash Course Python  3/3  \n## DEI/ISEP  April 2020    \n### Paulo Ferreira pdf@isep.ipp.pt\n\n**[https://notebooks.azure.com/pauloferreira](https://notebooks.azure.com/pauloferreira)**"
    },
    {
      "metadata": {
        "slideshow": {
          "slide_type": "slide"
        }
      },
      "cell_type": "markdown",
      "source": "### List Comprehensions\nAre:\n- Another way of creating or processing lists\n- Shorter syntax\n- Very powerful\n- Common: first a *for* then any number of *for*\n\nThe more common form: \n\n    [ expression , ...]"
    },
    {
      "metadata": {
        "slideshow": {
          "slide_type": "slide"
        },
        "trusted": true
      },
      "cell_type": "code",
      "source": "\nthreeList=[ 3*x for x in range(4) ]\nprint(threeList)\nthreeTupList=[ (x,3*x) for x in range(4) ]\nprint(threeTupList)\ntenZeros=[ 0 for x in range(10) ]\nprint(tenZeros)",
      "execution_count": null,
      "outputs": []
    },
    {
      "metadata": {
        "slideshow": {
          "slide_type": "slide"
        },
        "trusted": true
      },
      "cell_type": "code",
      "source": "threeEvenTupList=[ (x,3*x) for x in range(10) if x%2==0 ]\nprint(threeEvenTupList)\nthreeEvenTList=[ (x,3*x) for x in range(10) if x%2==0 \n                 if 3*x not in [12,18] ]\nprint(threeEvenTList)\nmadTuples=[ (x,y) for x in range(4) for y in range(4) \n                  if x+y>2 ]\nprint(madTuples)",
      "execution_count": null,
      "outputs": []
    },
    {
      "metadata": {
        "trusted": true,
        "slideshow": {
          "slide_type": "slide"
        }
      },
      "cell_type": "code",
      "source": "##  Card game fragment -- Deck as a list of cards \n\nimport random\nranks=[ \"Ace\", \"2\", \"3\", \"4\", \"5\", \"6\", \"7\",\"8\", \"9\", \"10\", \"Jack\", \"Queen\", \"King\" ]\nsuits=[ \"C\", \"D\", \"H\", \"S\" ] # Clubs, Diamonds, Hearts and Spades \nmydeck=[ ( rank, suit ) for rank in ranks for suit in suits]\nrandom.shuffle(mydeck)\n# for i in mydeck:  # diagnostics \n#     print(i)\n    \ncards=[]    # cards of each player; 4 players each with 13 cards       \nfor player in range(4):\n    cards.append(mydeck[0+player*13:13+player*13]) \n    if (\"Ace\",\"S\") in cards[player]:                # player with the Ace of Spades wins \n            print(\"Player {:d} has won!\".format(player))\n            print(cards[player])\n    ",
      "execution_count": null,
      "outputs": []
    },
    {
      "metadata": {
        "slideshow": {
          "slide_type": "slide"
        }
      },
      "cell_type": "markdown",
      "source": "### Generator comprehension\n\n- We can \"generate\" generators instaed of generating lists\n- Less memory and more eficiency  "
    },
    {
      "metadata": {
        "slideshow": {
          "slide_type": "fragment"
        },
        "trusted": true
      },
      "cell_type": "code",
      "source": "# Generator comprehension \n\nfor i in ( x for x in range(10) if x%2 != 0 if x%3 !=0): \n    print(i)",
      "execution_count": null,
      "outputs": []
    },
    {
      "metadata": {
        "slideshow": {
          "slide_type": "slide"
        }
      },
      "cell_type": "markdown",
      "source": "###  \"Functional\" *functions* \n\n* **map(function,sequence)**\n\n    - Makes a “mapping” into a new domain applying function to every element of the sequence\n\n     ![map.png](images/map.png)\n\n* **filter(function,sequence)**\n  \n  - Filters the elements of the sequence returning only those where the function returns true\n  \n\n* **reduce(function,sequence,\\[initial\\])**\n  \n  - Reduces the elements of the sequence to only one value using the given function\n  \n     ![reduce.png](images/reduce.png)\n  "
    },
    {
      "metadata": {
        "trusted": true,
        "slideshow": {
          "slide_type": "slide"
        }
      },
      "cell_type": "code",
      "source": "# map example \n\ndef triple(n):\n     return 3*n\n    \nprint(list(map(triple,[1,2,3,4])))    \n\nfor i in map(triple,[5,10,20]):\n    print(i) \n\n#  do a map with a list comprehension  \nprint( [ triple(x) for x in [5,10,20] ] )        ",
      "execution_count": null,
      "outputs": []
    },
    {
      "metadata": {
        "trusted": true,
        "slideshow": {
          "slide_type": "slide"
        }
      },
      "cell_type": "code",
      "source": "# filter example \n\ndef even(n):\n    if n%2==0:\n        return True\n    else: \n        return False\n    \nprint(list(filter(even,[1,2,3,4])))    \n\nfor i in filter(even,[5,10,20]):\n    print(i) \n    \n#  do a filter with a list comprehension  \nprint( [ x for x in [1,2,3,4] if even(x) ] )   ",
      "execution_count": null,
      "outputs": []
    },
    {
      "metadata": {
        "trusted": true,
        "slideshow": {
          "slide_type": "slide"
        }
      },
      "cell_type": "code",
      "source": "# reduce example\n\nfrom  functools import reduce\n\ndef mysum(x,y):\n    return x+y\n\ndef mymul(x,y):\n    return x*y\n\n\nprint(reduce(mysum,[1,2,3,4]))\nprint(reduce(mysum,[1,2,3,4],15))\nprint(reduce(mymul,[1,2,3,4]))",
      "execution_count": null,
      "outputs": []
    },
    {
      "metadata": {
        "slideshow": {
          "slide_type": "slide"
        }
      },
      "cell_type": "markdown",
      "source": "### Map -> Reduce  \n \n ![map_reduce.png](images/map_reduce.png)\n \n - Sum of all the odd numbers : map-> 0 if number is even ; reduce -> sum \n - List with all the odd numbers : map -> [ ] if number is even else [number] ; reduce concatenate lists "
    },
    {
      "metadata": {
        "slideshow": {
          "slide_type": "slide"
        }
      },
      "cell_type": "markdown",
      "source": "### Dictionaries & sets\n\n* Dictionaries – content addressed lists (key-value lists or *maps* )\n\n    dict = {key1:value1, key2:value2, key3:value3 }\n    \n\n* Sets – one make a set from a sequence\n    \n    mySet = set([1,2,3,4])"
    },
    {
      "metadata": {
        "slideshow": {
          "slide_type": "slide"
        },
        "trusted": true
      },
      "cell_type": "code",
      "source": "# dictionary example\n\nmydict={ \"bad\":5, \"average\":10 , \"good\":18}\nprint(mydict[\"bad\"])\nprint(mydict[\"good\"])\nfor key,value in mydict.items():\n    print(key,value)\n    \nfor value in mydict.values():\n    print(value)\n \nfor key in mydict.keys():\n    print(key)\n    ",
      "execution_count": null,
      "outputs": []
    },
    {
      "metadata": {
        "slideshow": {
          "slide_type": "slide"
        },
        "trusted": true
      },
      "cell_type": "code",
      "source": "# dictionary comprehension \nwords=['Zero','One','Two','Three','Four']\nndict={x:words[x] for x in [0,1,2,3,4] }\nprint(ndict)\nprint(ndict[3])",
      "execution_count": null,
      "outputs": []
    },
    {
      "metadata": {
        "trusted": true
      },
      "cell_type": "code",
      "source": "# set example \n\nmySet=set([1,2,3,4])\nprint(mySet)\nmySet2=set([3,4,5,6,7,7,7])\nprint(mySet2)\nprint(mySet | mySet2)\nprint(mySet & mySet2)\nprint(mySet - mySet2)\nprint(mySet2 - mySet)\nprint(mySet ^  mySet2)\n",
      "execution_count": null,
      "outputs": []
    },
    {
      "metadata": {
        "slideshow": {
          "slide_type": "slide"
        }
      },
      "cell_type": "markdown",
      "source": "## Objects and classes on Python\n\n\n#### Warnings \n\n- This is a very simple overview\n-  Consider the source code examples only as samples of the features in\nthe language, not as reflecting the best engineering pratices\n-  They are valid for Python 3.∗\n-  There is a serious lack of documentation in the source code examples"
    },
    {
      "metadata": {
        "slideshow": {
          "slide_type": "slide"
        }
      },
      "cell_type": "markdown",
      "source": "### Our First Class\n\n    class ClassName:\n    \n   ![class01.png](images/class01.png)\n  \n- Good practice: the name of the class in CamelCase\n-  This class has no attributes and no methods\n-  One can print the standard Python info about the objects\n-   One can also use the id() function on them"
    },
    {
      "metadata": {
        "trusted": true,
        "slideshow": {
          "slide_type": "slide"
        }
      },
      "cell_type": "code",
      "source": "# One very simple class -- ex06_01.py   \nclass MyFirstClass:\n        pass\n\na=MyFirstClass()\nb=MyFirstClass()\n\nprint(a)\nprint(b)\nprint(id(a))\nprint(id(b))",
      "execution_count": null,
      "outputs": []
    },
    {
      "metadata": {
        "slideshow": {
          "slide_type": "slide"
        }
      },
      "cell_type": "markdown",
      "source": "###  2D Points\n\n    class Point:\n\n![class02.png](images/class02.png)\n   \n- We do not need to declare attributes \n- Not in the class and not in the objects"
    },
    {
      "metadata": {
        "trusted": true,
        "slideshow": {
          "slide_type": "slide"
        }
      },
      "cell_type": "code",
      "source": "# 2D points --  ex06_02.py  \nclass Point:\n        pass\n\npa=Point()\npb=Point()\npa.x=1\npa.y=1\npb.x=2\npb.y=2\n\nprint(pa.x,pa.y)\nprint(pb.x,pb.y)",
      "execution_count": null,
      "outputs": []
    },
    {
      "metadata": {
        "slideshow": {
          "slide_type": "slide"
        }
      },
      "cell_type": "markdown",
      "source": "### 2D Points with a method \n\n\n![class03.png](images/class03.png)\n\n    def method(self):\n  \n  - Python automagically inserts the object as the first argument of method\n  - We give the name self to the object, but that is a convention\n  - Any other name will do, but on the first argument there will be always the object\n"
    },
    {
      "metadata": {
        "trusted": true,
        "slideshow": {
          "slide_type": "slide"
        }
      },
      "cell_type": "code",
      "source": "# 2D points with a method --  ex06_03.py  \nclass Point:\n    def reset(self): \n        self.x=0 \n        self.y=0 \n\np=Point()\np.reset()\nprint(p.x,p.y)",
      "execution_count": null,
      "outputs": []
    },
    {
      "metadata": {
        "slideshow": {
          "slide_type": "slide"
        }
      },
      "cell_type": "markdown",
      "source": "### 2D Points with two methods\n\n![class04.png](images/class04.png)\n    def method(self):\nThe same thing:\n  \n  - Python automagically inserts the object as the first argument of method\n  - We give the name self to the object, but that is a convention\n  - Any other name will do, but on the first argument there will be always the object\n  "
    },
    {
      "metadata": {
        "trusted": true,
        "slideshow": {
          "slide_type": "slide"
        }
      },
      "cell_type": "code",
      "source": "# 2D points with two methods --  ex06_04.py  \nclass Point:\n    def move(self,x,y):\n        self.x=x\n        self.y=y\n    def reset(self): \n        self.move(0,0) \n\np=Point()\np.move(1,1)\nprint(p.x,p.y)\np.reset()\nprint(p.x,p.y)",
      "execution_count": null,
      "outputs": []
    },
    {
      "metadata": {
        "slideshow": {
          "slide_type": "slide"
        }
      },
      "cell_type": "markdown",
      "source": "### 2D Points with a method on other object\n\n![class05.png](images/class05.png)\n    \n    def method(self, other_parameters):\n\n- The same thing\n- We can use objects as parameters"
    },
    {
      "metadata": {
        "trusted": true,
        "slideshow": {
          "slide_type": "slide"
        }
      },
      "cell_type": "code",
      "source": "# 2D points with three  methods --  ex06_05.py  \nimport math\nclass Point:\n    def move(self,x,y):\n        self.x=x\n        self.y=y\n    def reset(self): \n        self.move(0,0) \n    def distance(self,p):\n        return math.sqrt((self.x-p.x)**2+(self.y-p.y)**2)        \np1=Point()\np1.move(3,4)\np2=Point()\np2.reset()\nprint(p1.distance(p2))",
      "execution_count": null,
      "outputs": []
    },
    {
      "metadata": {
        "slideshow": {
          "slide_type": "slide"
        }
      },
      "cell_type": "markdown",
      "source": "### 2D Points with a constructor\n\n![class06.png](images/class06.png)\n\n    def __init__(self, other_parameters):\n    \n- A very special method (more coming soon)   \n- Called when an object is created"
    },
    {
      "metadata": {
        "trusted": true,
        "slideshow": {
          "slide_type": "slide"
        }
      },
      "cell_type": "code",
      "source": "# 2D points with a constructor -- __init__  --  ex06_06.py  \nimport math\nclass Point:\n    def __init__(self,x=0,y=0):\n        self.move(x,y)\n    def move(self,x,y):\n        self.x=x\n        self.y=y\n    def distance(self,p):\n        return math.sqrt((self.x-p.x)**2+(self.y-p.y)**2)  \n\np1=Point(3,4)\np2=Point()\nprint(p1.distance(p2))",
      "execution_count": null,
      "outputs": []
    },
    {
      "metadata": {
        "slideshow": {
          "slide_type": "slide"
        }
      },
      "cell_type": "markdown",
      "source": "### Inheritance\n\n![class07.png](images/class07.png)\n\n\n    class MadPoint(Point):\n   \nWe can base classes on other classes\n- Multiple Inheritance – more than one class as arguments\n- The order of the arguments will give the priority in the inheritance\n"
    },
    {
      "metadata": {
        "trusted": true,
        "slideshow": {
          "slide_type": "slide"
        }
      },
      "cell_type": "code",
      "source": "# Inheritance -- ex06_07.py  \nimport math\nclass Point:\n    def __init__(self,x=0,y=0):\n        self.move(x,y)\n    def move(self,x,y):\n        self.x=x\n        self.y=y\n    def distance(self,p):\n        return math.sqrt((self.x-p.x)**2+(self.y-p.y)**2)  \n\nclass MadPoint(Point):  \n    pass \n\np1=MadPoint(3,4)\np2=MadPoint()\nprint(p1.distance(p2))",
      "execution_count": null,
      "outputs": []
    },
    {
      "metadata": {
        "slideshow": {
          "slide_type": "slide"
        }
      },
      "cell_type": "markdown",
      "source": "### Inheritance with new methods\n![class08.png](images/class08.png)\n\n    def method():\n   \nWe can place methods on the new class\nThey will be available only to objects of that class"
    },
    {
      "metadata": {
        "trusted": true,
        "slideshow": {
          "slide_type": "slide"
        }
      },
      "cell_type": "code",
      "source": "# Inheritance with new methods -- ex06_08.py  \nimport math\nclass Point:\n    def __init__(self,x=0,y=0):\n        self.move(x,y)\n    def move(self,x,y):\n        self.x=x\n        self.y=y\n    def distance(self,p):\n        return math.sqrt((self.x-p.x)**2+(self.y-p.y)**2)  \n\nclass MadPoint(Point):  \n    def swap(self):\n        self.x,self.y=self.y,self.x \n\np1=MadPoint(3,4)\np1.swap() \nprint(p1.x,p1.y)\np2=Point(1,2)\np2.swap() \n#  this should give an error ",
      "execution_count": null,
      "outputs": []
    },
    {
      "metadata": {
        "slideshow": {
          "slide_type": "slide"
        }
      },
      "cell_type": "markdown",
      "source": "### Inheritance with new methods and override\n\n![class09.png](images/class09.png)\n    def method():\n \n \n- We can place methods on the new class to override methods of the old class\n- Example: our points are really mad and believe they are at a distance of 1.0 of other points"
    },
    {
      "metadata": {
        "trusted": true,
        "slideshow": {
          "slide_type": "slide"
        }
      },
      "cell_type": "code",
      "source": "# Inheritance with new methods  and override -- ex06_09.py \n\nimport math\nclass Point:\n    def __init__(self,x=0,y=0):\n        self.move(x,y)\n    def move(self,x,y):\n        self.x=x\n        self.y=y\n    def distance(self,p):\n        return math.sqrt((self.x-p.x)**2+(self.y-p.y)**2)  \n\nclass MadPoint(Point):  \n    def swap(self):\n        self.x,self.y=self.y,self.x \n    def distance(self,p):\n        return 1.0 \n\np1=MadPoint(3,4)\np2=Point(0,0)\nprint(p1.distance(p2))\nprint(p2.distance(p1))",
      "execution_count": null,
      "outputs": []
    },
    {
      "metadata": {
        "slideshow": {
          "slide_type": "slide"
        }
      },
      "cell_type": "markdown",
      "source": "###  Public & Private Issues\n\n- By default all attributes and methods are fully public\n- If an atribute or method name starts with _ it is an indication that the attribute/method should be considered private\n- An adult programmer respects the privacy of others  :-) \n- If it starts with __ then Python does a name mangling transformation so one cannot access it (easily)"
    },
    {
      "metadata": {
        "slideshow": {
          "slide_type": "slide"
        }
      },
      "cell_type": "markdown",
      "source": "### 2D Points with public attributes\n\n![class10.png](images/class10.png)\n\n-  By default all attributes and methods are public"
    },
    {
      "metadata": {
        "trusted": true,
        "slideshow": {
          "slide_type": "slide"
        }
      },
      "cell_type": "code",
      "source": "# public attributes  --  ex06_10.py  \nclass Point:\n    def __init__(self,x=0,y=0):\n        self.move(x,y)\n    def move(self,x,y):\n        self.x=x\n        self.y=y\n\np1=Point(3,4)\np1.x,p1.y=p1.y,p1.x\nprint(p1.x,p1.y)",
      "execution_count": null,
      "outputs": []
    },
    {
      "metadata": {
        "slideshow": {
          "slide_type": "slide"
        }
      },
      "cell_type": "markdown",
      "source": "### 2D Points with private indication\n\n![class11.png](images/class11.png)\n  \n- This is just an indication, a request to other programmers \n- It is not enforced by any means"
    },
    {
      "metadata": {
        "trusted": true,
        "slideshow": {
          "slide_type": "slide"
        }
      },
      "cell_type": "code",
      "source": "# \"please consider these private\"   --  ex06_11.py  \nclass Point:\n    def __init__(self,_x=0,_y=0):\n        self.move(_x,_y)\n    def move(self,x,y):\n        self._x=x\n        self._y=y\n\np1=Point(3,4)\np1._x,p1._y=p1._y,p1._x\nprint(p1._x,p1._y)",
      "execution_count": null,
      "outputs": []
    },
    {
      "metadata": {
        "slideshow": {
          "slide_type": "slide"
        }
      },
      "cell_type": "markdown",
      "source": "### 2D Points with name mangling\n\n![class12.png](images/class12.png)\n-  This asks Python to “obfuscate” the names\n- One can still find the real names\n- It is considered a reasonable measure"
    },
    {
      "metadata": {
        "trusted": true,
        "slideshow": {
          "slide_type": "slide"
        }
      },
      "cell_type": "code",
      "source": "# \"hide these as private\"   --  ex06_12.py  \nclass Point:\n    def __init__(self,__x=0,__y=0):\n        self.move(__x,__y)\n    def move(self,x,y):\n        self.__x=x\n        self.__y=y\n\np1=Point(3,4)\np1.move(6,8) \np1.__x,p1.__y=p1.__y,p1.__x\nprint(p1.__x,p1.__y)\n\n# This should give an error ",
      "execution_count": null,
      "outputs": []
    },
    {
      "metadata": {
        "slideshow": {
          "slide_type": "slide"
        }
      },
      "cell_type": "markdown",
      "source": "### Creating attributes in the class instead of in the objects"
    },
    {
      "metadata": {
        "trusted": true,
        "slideshow": {
          "slide_type": "fragment"
        }
      },
      "cell_type": "code",
      "source": "# \"Counting  the created points\"   --  ex06_13.py  \nclass Point:\n    numPoints=0 \n    def __init__(self,x=0,y=0):\n        self.move(x,y)\n        Point.numPoints+=1\n    def move(self,x,y):\n        self.__x=x\n        self.__y=y\n\np1=Point(3,4)\np2=Point()\np3=Point(1,2)\nprint(Point.numPoints)",
      "execution_count": null,
      "outputs": []
    },
    {
      "metadata": {
        "slideshow": {
          "slide_type": "slide"
        }
      },
      "cell_type": "markdown",
      "source": "### Inheritance with override and *super()*\n\n![class13.png](images/class13.png)\n\n\n    def method():\n   \n- Supposing our mad points when created, double their coordinates \n- We can override the **\\__init\\__**  of the original class\n"
    },
    {
      "metadata": {
        "trusted": true,
        "slideshow": {
          "slide_type": "slide"
        }
      },
      "cell_type": "code",
      "source": "# Inheritance with new methods  and override -- ex06_14.py  \nimport math\nclass Point:\n    numPoints=0\n    def __init__(self,x=0,y=0):\n        self.move(x,y)\n        Point.numPoints+=1\n    def move(self,x,y):\n        self.x=x\n        self.y=y\n    def distance(self,p):\n        return math.sqrt((self.x-p.x)**2+(self.y-p.y)**2)  \n\nclass MadPoint(Point):  \n    def __init__(self,x=0,y=0):\n        self.move(2*x,2*y)\n    def swap(self):\n        self.x,self.y=self.y,self.x \n    def distance(self,p):\n        return 1.0 \n\np1=MadPoint(3,4)\nprint(p1.x,p1.y,Point.numPoints)",
      "execution_count": null,
      "outputs": []
    },
    {
      "metadata": {
        "slideshow": {
          "slide_type": "slide"
        }
      },
      "cell_type": "markdown",
      "source": "### What is wrong?\n\n- We forgot that the original counted the number of points created \n- Can we override a method and use it at the same time?\n\n####  super() \n- How to access the so called superclass  \n- The syntax was very different on Python 2.∗\n- From the subclass (the class that inherits) call methods on the original class\n"
    },
    {
      "metadata": {
        "trusted": true,
        "slideshow": {
          "slide_type": "slide"
        }
      },
      "cell_type": "code",
      "source": "# Inheritance with methods, override and super -- ex06_15.py  \nimport math\nclass Point:\n    numPoints=0\n    def __init__(self,x=0,y=0):\n        self.move(x,y)\n        Point.numPoints+=1\n    def move(self,x,y):\n        self.x=x\n        self.y=y\n    def distance(self,p):\n        return math.sqrt((self.x-p.x)**2+(self.y-p.y)**2)  \n\nclass MadPoint(Point):  \n    def __init__(self,x=0,y=0):\n        super().__init__(2*x,2*y)\n    def swap(self):\n        self.x,self.y=self.y,self.x \n    def distance(self,p):\n        return 1.0 \n\np1=MadPoint(3,4)\nprint(p1.x,p1.y,Point.numPoints)",
      "execution_count": null,
      "outputs": []
    },
    {
      "metadata": {
        "slideshow": {
          "slide_type": "slide"
        }
      },
      "cell_type": "markdown",
      "source": "### Getters and Setters\n\n![class14.png](images/class14.png)\n\n- How to get (and set) values directly\n\n- Various ways to do it\n    1. One \n            name=property(getter,setter)\n    2. Two \n            @property # before the getter \n            @name.setter #  before the setter\n            \n            \n#### Warning: The UML diagram shows the internal details! \n   \n###### Externally the class has no visible methods, only \"attributes\"       "
    },
    {
      "metadata": {
        "trusted": true,
        "slideshow": {
          "slide_type": "slide"
        }
      },
      "cell_type": "code",
      "source": "# \"Getters and setters with property\"   --  ex06_16.py  \nclass Point:\n    def __init__(self,x=0,y=0):\n        self.__x,self.__y=x,y\n    def get_coords(self):\n        return  self.__x,self.__y\n    def set_coords(self,xy):\n        self.__x,self.__y=xy[0],xy[1]\n    coords=property(get_coords,set_coords)\n\np1=Point(3,4)\nprint(p1.coords)\np1.coords=9,1\nprint(p1.coords)",
      "execution_count": null,
      "outputs": []
    },
    {
      "metadata": {
        "trusted": true,
        "slideshow": {
          "slide_type": "slide"
        }
      },
      "cell_type": "code",
      "source": "# \"Getters and setters with decorators\"   --  ex06_17.py  \nclass Point:\n    def __init__(self,x=0,y=0):\n        self.__x,self.__y=x,y\n    @property\n    def coords(self):\n        return  self.__x,self.__y\n    @coords.setter\n    def coords(self,xy):\n        self.__x,self.__y=xy[0],xy[1]\np1=Point(3,4)\nprint(p1.coords)\np1.coords=9,1\nprint(p1.coords)",
      "execution_count": null,
      "outputs": []
    },
    {
      "metadata": {
        "trusted": true,
        "slideshow": {
          "slide_type": "slide"
        }
      },
      "cell_type": "code",
      "source": "# \"Class methods\"   --  ex06_18.py  \nclass Point:\n    numPoints=0 \n    def __init__(self,x=0,y=0):\n        self.__x,self.__y=x,y\n        Point.numPoints+=1\n    @classmethod\n    def points(cls):\n        print(\"This class has created\",cls.numPoints,\"objects\")\n\np1=Point(3,4)\np2=Point()\np3=Point(1,2)\nPoint.points()",
      "execution_count": null,
      "outputs": []
    },
    {
      "metadata": {
        "trusted": true,
        "slideshow": {
          "slide_type": "slide"
        }
      },
      "cell_type": "code",
      "source": "# \"Static  methods\"   --  ex06_19.py  \nclass Point:\n    numPoints=0 \n    def __init__(self,x=0,y=0):\n        self.__x,self.__y=x,y\n        Point.numPoints+=1\n    @staticmethod\n    def my_message():\n        print(\"This class has a static method\")\nPoint.my_message()",
      "execution_count": null,
      "outputs": []
    },
    {
      "metadata": {
        "slideshow": {
          "slide_type": "slide"
        }
      },
      "cell_type": "markdown",
      "source": "### Special methods (1/4)\n\nFor implementing operator overloading and also for providing common functionalities Python has a series of special methods.\n\n- Their name is usually: **\\__method\\__**\n- Example: when one writes **a+b** Python \"translates\" it into **a.\\__plus\\__(b)**\n\n![methods01.png](images/methods01.png)\n"
    },
    {
      "metadata": {
        "slideshow": {
          "slide_type": "slide"
        }
      },
      "cell_type": "markdown",
      "source": "### Why alternative methods?\n\n1. If an operation involves two objects of different classes and Python does not find the corresponding method defined on the first class, it tries the second class with the **r**\n   ```python  \n   3*\"Hello\"\n   ```     \n    - Has the integer class this method: \n        ```python 3*__mul__(\"Hello\")?\n        ```\n    - If not, has the string class the method \n    ```python \"Hello\".__rmul__(3)```?\n\n\n2. This is also useful in the cases where the operation is not commutative"
    },
    {
      "metadata": {
        "slideshow": {
          "slide_type": "slide"
        }
      },
      "cell_type": "markdown",
      "source": "### Special methods (2/4)\n\n\n![methods02.png](images/methods02.png)\n"
    },
    {
      "metadata": {
        "slideshow": {
          "slide_type": "slide"
        }
      },
      "cell_type": "markdown",
      "source": "### Special methods (3/4) \n\n![methods03.png](images/methods03.png)\n"
    },
    {
      "metadata": {
        "slideshow": {
          "slide_type": "slide"
        }
      },
      "cell_type": "markdown",
      "source": "### Special methods (4/4) \n\n![methods04.png](images/methods04.png)\n\nThere are more (see the full documentation) "
    },
    {
      "metadata": {
        "slideshow": {
          "slide_type": "slide"
        }
      },
      "cell_type": "markdown",
      "source": "### Unusual methods\n- hash(a) – returns an integer used to quickly compare dictionary keys during a dictionary lookup\n- iter(a) – returns an iterator object\n- next(a) – returns the next object from an iterator\n\n\n#### Difference between repr & str? \n\nCopy/paste from Python Docs:\n\n- **repr** -- If at all possible, this should look like a valid Python expression that could be used to recreate an object with the same value (given an appropriate environment).\n\n- **str** -- Called by str(object) and the built-in functions format() and print() to compute the “informal” or nicely printable string representation of an object. The return value must be a string object."
    },
    {
      "metadata": {
        "slideshow": {
          "slide_type": "slide"
        }
      },
      "cell_type": "markdown",
      "source": "### Special methods and operator overloading (1/2)\nSupposing we want to create 2D points with ints just like we did before, but:\n1. We want to print them, so we place the two ints in a tuple and convert the tuple into a string\n2. We want to use the + operator to add them, so on the add method we create a new object with the sum of the points"
    },
    {
      "metadata": {
        "trusted": true,
        "slideshow": {
          "slide_type": "slide"
        }
      },
      "cell_type": "code",
      "source": "# \"Special  methods\"   --  ex06_20.py  \nclass Point:\n    def __init__(self,x=0,y=0):\n        self.__x,self.__y=x,y\n    def __str__(self):\n        return str((self.__x,self.__y))\n    def __add__(self,other): \n        return Point(self.__x+other.__x,self.__y+other.__y)\n\np1=Point(1,2)\np2=Point(2,4)\np3=p1+p2\nprint(p3)",
      "execution_count": null,
      "outputs": []
    },
    {
      "metadata": {
        "slideshow": {
          "slide_type": "slide"
        }
      },
      "cell_type": "markdown",
      "source": "### Special methods and operator overloading (2/2)\nNow, besides what we have done, we want to add ints to points, but:\n1. Point+int => should add the int to both x and y coordinates \n2. int+Point => should add the int only to the x coordinate"
    },
    {
      "metadata": {
        "trusted": true,
        "slideshow": {
          "slide_type": "slide"
        }
      },
      "cell_type": "code",
      "source": "# \"Special  methods improved\"   --  ex06_21.py  \nclass Point:\n    def __init__(self,x=0,y=0):\n        self.__x,self.__y=x,y\n    def __str__(self):\n        return str((self.__x,self.__y))\n    def __add__(self,other): \n        if isinstance(other,Point):\n            return Point(self.__x+other.__x,self.__y+other.__y)\n        if isinstance(other,int):\n            return Point(self.__x+other,self.__y+other)\n    def __radd__(self,other):\n        if isinstance(other,int):\n            return Point(self.__x+other,self.__y)\n\np1=Point(1,2)\np2=Point(2,4)\np3=p1+p2\nprint(p3)\np4=p3+3 \nprint(p4)\np5=10+p4\nprint(p5) ",
      "execution_count": null,
      "outputs": []
    },
    {
      "metadata": {
        "slideshow": {
          "slide_type": "slide"
        }
      },
      "cell_type": "markdown",
      "source": "### Small Pause\n```python \n*args \n**kwargs\n```\n\n-  Don’t panic! \n- There are no pointers in Python! \n- Just syntactic sugar for:\n\n     **\\*args** – all the normal function arguments \n     \n     __\\**kwargs__ – all the keyword=value arguments"
    },
    {
      "metadata": {
        "slideshow": {
          "slide_type": "slide"
        }
      },
      "cell_type": "markdown",
      "source": "### Just one pattern: Decorator\n- Very used in Python \n- Small examples\n- A good example"
    },
    {
      "metadata": {
        "slideshow": {
          "slide_type": "slide"
        }
      },
      "cell_type": "markdown",
      "source": "### Decorator: how it works\n-  We have an original function that we want to modify, without modifying the source code of that function\n- The decorator function:\n    1. Receives the original function\n    2. Creates a new function with the desired characteristics\n    3. Attributes the new function to the same identifier of the original function\n\n![decorator.png](images/decorator.png)"
    },
    {
      "metadata": {
        "slideshow": {
          "slide_type": "slide"
        }
      },
      "cell_type": "markdown",
      "source": "### Decorator example: tracer\n\n- We want to count the number of times a function is called\n-  When the function is called we want:\n    1. To print the number of times the function has been called and it’s name\n    2. To print it’s arguments"
    },
    {
      "metadata": {
        "trusted": true,
        "slideshow": {
          "slide_type": "slide"
        }
      },
      "cell_type": "code",
      "source": "# \"Decorator  \"   --  ex06_22.py  \n\nclass tracer:\n    def __init__(self, func):\n        # On @ decoration: save original func and creates n_calls  \n        self.n_calls = 0\n        self.func = func\n    def __call__(self, *args,**kwargs):\n        # On later calls: run original func\n        self.n_calls += 1\n        print(\"Call {} to {}\".format(self.n_calls, self.func.__name__))\n        print(\"On tracer->\",*args,**kwargs)\n        self.func(*args,**kwargs)\n\n@tracer \ndef my_func(i): \n    print(i) \n\n@tracer\ndef my_func2(i): \n    print(i)\n\nmy_func(\"a\")\nmy_func(\"b\") \nmy_func2(\"c\") \nmy_func2(\"d\") ",
      "execution_count": null,
      "outputs": []
    },
    {
      "metadata": {
        "slideshow": {
          "slide_type": "slide"
        }
      },
      "cell_type": "markdown",
      "source": "### More decorators\nTaken from the The Python Decorator Library\n\n- An (horrible) HTML decorator:\n    - Helps writing an HTML document writing the top and bottom \n    - The horrible adjective is relative to the HTML quality\n\n- Memoization:\n     - When the execution of a function is time consuming\n     - And the results for one value will be needed later (and are still valid!)\n     - Caching the function execution in a dictionary will speed the program"
    },
    {
      "metadata": {
        "trusted": true,
        "slideshow": {
          "slide_type": "slide"
        }
      },
      "cell_type": "code",
      "source": "# \"(horrible)  HTML  decorator\"   --  ex06_23.py  \nclass HTMLmethod(object):\n    def __init__(self, title):\n        self.title = title\n    def __call__(self, fn):\n        def wrapped_fn(*args,**kwargs):\n            print(\"Content-Type: text/html\\n\\n<HTML>\")\n            print(\"<HEAD><TITLE>{}</TITLE></HEAD>\".format(self.title))\n            print(\"<BODY>\")\n            fn(*args,**kwargs)\n            print(\"\\n</BODY></HTML>\") \n        return wrapped_fn\n\n@HTMLmethod(\"Hello with Decorator\")\ndef say_hello():\n    print('<h1>Hello from Python-Land</h1>')\n\nsay_hello()",
      "execution_count": null,
      "outputs": []
    },
    {
      "metadata": {
        "trusted": true,
        "slideshow": {
          "slide_type": "slide"
        }
      },
      "cell_type": "code",
      "source": "# \"memoize  decorator\"   --  ex06_24.py\nclass memoize(dict):\n    def __init__(self, func):\n        self.func = func\n    def __call__(self, *args):\n        return self[args]\n    def __missing__(self, key):\n        result = self[key] = self.func(*key)\n        return result\n@memoize\ndef fibonacci(n):\n   if n in (0, 1):\n      return n\n   return fibonacci(n-1) + fibonacci(n-2)\nprint(fibonacci(12))\nprint(fibonacci)\n",
      "execution_count": null,
      "outputs": []
    },
    {
      "metadata": {
        "trusted": true
      },
      "cell_type": "code",
      "source": "",
      "execution_count": null,
      "outputs": []
    }
  ],
  "metadata": {
    "kernelspec": {
      "name": "python36",
      "display_name": "Python 3.6",
      "language": "python"
    },
    "language_info": {
      "mimetype": "text/x-python",
      "nbconvert_exporter": "python",
      "name": "python",
      "pygments_lexer": "ipython3",
      "version": "3.6.6",
      "file_extension": ".py",
      "codemirror_mode": {
        "version": 3,
        "name": "ipython"
      }
    },
    "celltoolbar": "Slideshow"
  },
  "nbformat": 4,
  "nbformat_minor": 2
}