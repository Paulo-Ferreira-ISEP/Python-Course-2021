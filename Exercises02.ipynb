{
  "cells": [
    {
      "metadata": {},
      "cell_type": "markdown",
      "source": "# Exercises about programming 02"
    },
    {
      "metadata": {
        "collapsed": true
      },
      "cell_type": "markdown",
      "source": "## Value of $\\pi$\n\nThe value of $\\pi$ can be (very badly) computed using this series:\n\n $\\frac{\\pi}{4}=1-\\frac{1}{3}+\\frac{1}{5}-\\frac{1}{7}+\\frac{1}{9}-\\frac{1}{11}+\\frac{1}{13}-\\frac{1}{15}+\\ldots$   \n\nCreate a program that asks the the user for an integer $n$ and then calculates the value of $\\pi$ using the first $n$ term of the series, and then prints the calculated value and the difference from `math.pi`.    \n"
    },
    {
      "metadata": {
        "trusted": true
      },
      "cell_type": "code",
      "source": "\n          ",
      "execution_count": null,
      "outputs": []
    },
    {
      "metadata": {},
      "cell_type": "markdown",
      "source": "### Collatz conjecture \n\n1. Start with a positive integer $n$\n2. If $n$ is odd, $n\\leftarrow{}3n+1$\n3. If $n$ is even, $n\\leftarrow{}n/2$  \n4. If $n\\neq1$ go back to step 2\n\n\n\n- Does this transformation always converge to 1 for every integer? \n- For an initial integer $n$, how many iterations ($i\\_num$) are needed until $n=1$? \n- For an initial integer $n$, what is the maximum value ($max\\_n$) reached in the process? \n\nWrite a program that prints $i\\_num$ and $max\\_n$ for all integers between 1 and 30 \n"
    },
    {
      "metadata": {
        "trusted": true
      },
      "cell_type": "code",
      "source": "\n    \n    ",
      "execution_count": null,
      "outputs": []
    },
    {
      "metadata": {},
      "cell_type": "markdown",
      "source": "### Factorial\n\n The factorial of a integer number $n$ is usually defined as:\n \n\\begin{equation*}\nfact(n)=\\prod_{i=1}^{n}i=1*2*3*\\ldots*(n-1)*n\n\\end{equation*}\n\n\nPlease write a function called `factorial` that returns the factorial of an integer."
    },
    {
      "metadata": {
        "trusted": true
      },
      "cell_type": "code",
      "source": "\n    ",
      "execution_count": null,
      "outputs": []
    },
    {
      "metadata": {},
      "cell_type": "markdown",
      "source": "### The $nth$ Fibonacci number\n\n\nThe \"Fibonacci number\" of $n$ is usually defined as:\n \n\\begin{align*}\nfib(0)&=0  \\\\\nfib(1)&=1  \\\\\nfib(n)&=fib(n-1)+fib(n-2)\n\\end{align*}\n\n\n\nPlease write a function called `fib` that returns the Fibonacci number of it's parameter \n"
    },
    {
      "metadata": {
        "trusted": true
      },
      "cell_type": "code",
      "source": "",
      "execution_count": null,
      "outputs": []
    },
    {
      "metadata": {
        "trusted": true
      },
      "cell_type": "code",
      "source": "",
      "execution_count": null,
      "outputs": []
    },
    {
      "metadata": {},
      "cell_type": "markdown",
      "source": "### Input a list of numbers\n\nMake a function `inputList()` that:\n- Asks the user for the number of the elements of the list (an integer) \n- Inputs all the list's elements\n- Returns the list written by the user \n\t"
    },
    {
      "metadata": {
        "trusted": true
      },
      "cell_type": "code",
      "source": "",
      "execution_count": null,
      "outputs": []
    },
    {
      "metadata": {},
      "cell_type": "markdown",
      "source": "### Calculate the average of  list of numbers\n\nMake a function `averageList(list)` that: \n\n- Receiving a list as a parameter, returns the average of all the elements of the list ($\\mu{}_x$)  \n- Assume that the average of an empty list is zero"
    },
    {
      "metadata": {
        "trusted": true
      },
      "cell_type": "code",
      "source": "",
      "execution_count": null,
      "outputs": []
    },
    {
      "metadata": {},
      "cell_type": "markdown",
      "source": "### Calculate the median of a list of numbers\n\nMake a function`medianList(list)` that receiving a list as a parameter, returns the median of all the elements of the list. \n\n*Assume that the median is calculated in a different way according to the number of the elements of the list:*\n\n- If the number of elements is odd, the median is the element of the list $m$ such that splitting the original list (without $m$) in two lists $L1$ and $L2$ with the same number of elements:\n\n\\begin{align*}\n\t\t\t\t\\forall{}x\\in&{}L1, x<m\\\\\n\t\t\t\t\\forall{}x\\in&{}L2, x>m\\\\\n\t\t\t\t\\end{align*}\n\n- If the number of elements is even, the median of list $m$ is calculated splitting the original list  in two lists $L1$ and $L2$ with the same number of elements:\n\n\\begin{align*}\n\t\t\t\t\\forall{}x\\in&{}L1, x<min(L2)\\\\\n\t\t\t\t\\forall{}x\\in&{}L2, x>max(L1)\\\\\n\t\t\t\tm=&(max(L1)+min(L2))/2\\\\\n\t\t\t\t\\end{align*}\n\t\n \n\t\t\t   "
    },
    {
      "metadata": {
        "trusted": true
      },
      "cell_type": "code",
      "source": "",
      "execution_count": null,
      "outputs": []
    },
    {
      "metadata": {},
      "cell_type": "markdown",
      "source": "### Calculate the Standard Deviation\n\n\nMake a function `stdDeviationList(list)` that: \n\n\n- Receiving a list as a parameter, returns the standard deviation ($\\sigma_x$) of the list   \n- Assume that the standard deviation is calculated as: \n\n\t\\begin{equation*}\n      \\sigma_x=\\sqrt{\\frac{\\sum_{i=0}^{n-1}(x_i-\\mu_x)^2}{n-1}}\n\t\\end{equation*}\n\n"
    },
    {
      "metadata": {
        "trusted": true
      },
      "cell_type": "code",
      "source": "",
      "execution_count": null,
      "outputs": []
    },
    {
      "metadata": {},
      "cell_type": "markdown",
      "source": "### Once again\n\nRepeat the last three exercises, but this time, ignore on your calculations the minimum and the maximum of the original list.  "
    },
    {
      "metadata": {
        "trusted": true
      },
      "cell_type": "code",
      "source": "",
      "execution_count": null,
      "outputs": []
    },
    {
      "metadata": {
        "trusted": true
      },
      "cell_type": "code",
      "source": "",
      "execution_count": null,
      "outputs": []
    }
  ],
  "metadata": {
    "kernelspec": {
      "name": "python36",
      "display_name": "Python 3.6",
      "language": "python"
    },
    "language_info": {
      "mimetype": "text/x-python",
      "nbconvert_exporter": "python",
      "name": "python",
      "pygments_lexer": "ipython3",
      "version": "3.6.6",
      "file_extension": ".py",
      "codemirror_mode": {
        "version": 3,
        "name": "ipython"
      }
    }
  },
  "nbformat": 4,
  "nbformat_minor": 2
}