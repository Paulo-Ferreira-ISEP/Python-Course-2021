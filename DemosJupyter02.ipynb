{
  "cells": [
    {
      "metadata": {
        "collapsed": true,
        "slideshow": {
          "slide_type": "slide"
        }
      },
      "cell_type": "markdown",
      "source": "# Jupyter Notebooks  2/2  \n## DEI/ISEP  April 2020    \n### Paulo Ferreira pdf@isep.ipp.pt\n\n**[https://notebooks.azure.com/pauloferreira](https://notebooks.azure.com/pauloferreira)**"
    },
    {
      "metadata": {
        "slideshow": {
          "slide_type": "slide"
        }
      },
      "cell_type": "markdown",
      "source": "### Miscelaneous Stuff  \n\n* Magic commands \n* Useful Libraries  \t"
    },
    {
      "metadata": {
        "slideshow": {
          "slide_type": "slide"
        },
        "trusted": true
      },
      "cell_type": "code",
      "source": "%magic",
      "execution_count": null,
      "outputs": []
    },
    {
      "metadata": {
        "slideshow": {
          "slide_type": "slide"
        },
        "trusted": true
      },
      "cell_type": "code",
      "source": "%ls -l ",
      "execution_count": null,
      "outputs": []
    },
    {
      "metadata": {
        "slideshow": {
          "slide_type": "slide"
        }
      },
      "cell_type": "markdown",
      "source": "### nbgrader \n\nA Jupyter extension to grade student's work :\n\n* Code & Manual grading \n\n* [https://github.com/jupyter/nbgrader](https://github.com/jupyter/nbgrader)\n* [https://nbgrader.readthedocs.io/en/stable/](https://nbgrader.readthedocs.io/en/stable/)\n* [YouTube Video 24 min](https://www.youtube.com/watch?v=5WUm0QuJdFw)\n\n"
    },
    {
      "metadata": {
        "slideshow": {
          "slide_type": "slide"
        }
      },
      "cell_type": "markdown",
      "source": "### Matplotlib \n\n* A 2D Plotting library for publication quality figures\n* [https://matplotlib.org](https://matplotlib.org)\n* Examples taken from the official site"
    },
    {
      "metadata": {
        "trusted": true,
        "slideshow": {
          "slide_type": "slide"
        }
      },
      "cell_type": "code",
      "source": "# start with the magic command!  \n%matplotlib inline \nimport matplotlib\nimport numpy as np\nimport matplotlib.pyplot as plt\n \nx = np.linspace(0, 3*np.pi, 500)\nplt.plot(x, np.sin(x**2))\nplt.title('A simple chirp')\nplt.show()",
      "execution_count": null,
      "outputs": []
    },
    {
      "metadata": {
        "trusted": true,
        "slideshow": {
          "slide_type": "slide"
        }
      },
      "cell_type": "code",
      "source": "# start with the magic command!  \n%matplotlib inline\nimport numpy as np\nimport matplotlib.pyplot as plt\n\n# Data for plotting\nx1 = np.linspace(0.0, 5.0)\nx2 = np.linspace(0.0, 2.0)\ny1 = np.cos(2 * np.pi * x1) * np.exp(-x1)\ny2 = np.cos(2 * np.pi * x2)\n\n# Create two subplots sharing y axis\nfig, (ax1, ax2) = plt.subplots(2, sharey=True)\n\nax1.plot(x1, y1, 'ko-')\nax1.set(title='A tale of 2 subplots', ylabel='Damped oscillation')\n\nax2.plot(x2, y2, 'r.-')\nax2.set(xlabel='time (s)', ylabel='Undamped')\n\nplt.show()",
      "execution_count": null,
      "outputs": []
    },
    {
      "metadata": {
        "trusted": true,
        "slideshow": {
          "slide_type": "slide"
        }
      },
      "cell_type": "code",
      "source": "%matplotlib inline \nimport numpy as np\nimport matplotlib.pyplot as plt\nfrom matplotlib.ticker import MaxNLocator\nfrom collections import namedtuple\n\n\nn_groups = 5\n\nmeans_men = (20, 35, 30, 35, 27)\nstd_men = (2, 3, 4, 1, 2)\n\nmeans_women = (25, 32, 34, 20, 25)\nstd_women = (3, 5, 2, 3, 3)\n\nfig, ax = plt.subplots()\n\nindex = np.arange(n_groups)\nbar_width = 0.35\n\nopacity = 0.4\nerror_config = {'ecolor': '0.3'}\n\nrects1 = ax.bar(index, means_men, bar_width,\n                alpha=opacity, color='b',\n                yerr=std_men, error_kw=error_config,\n                label='Men')\n\nrects2 = ax.bar(index + bar_width, means_women, bar_width,\n                alpha=opacity, color='r',\n                yerr=std_women, error_kw=error_config,\n                label='Women')\n\nax.set_xlabel('Group')\nax.set_ylabel('Scores')\nax.set_title('Scores by group and gender')\nax.set_xticks(index + bar_width / 2)\nax.set_xticklabels(('A', 'B', 'C', 'D', 'E'))\nax.legend()\n\nfig.tight_layout()\nplt.show()\n",
      "execution_count": null,
      "outputs": []
    },
    {
      "metadata": {
        "trusted": true,
        "slideshow": {
          "slide_type": "slide"
        }
      },
      "cell_type": "markdown",
      "source": "### Bokeh \n\n* A library for interactive Web Graphics \n* Bokeh *generates* all the required Javascript code \n* [https://bokeh.pydata.org/en/latest/](https://bokeh.pydata.org/en/latest/)\n* Examples taken from the official site"
    },
    {
      "metadata": {
        "trusted": true,
        "slideshow": {
          "slide_type": "slide"
        }
      },
      "cell_type": "code",
      "source": "import numpy as np # we will use this later, so import it now\n\nfrom bokeh.io import output_notebook, show\nfrom bokeh.plotting import figure\noutput_notebook()",
      "execution_count": null,
      "outputs": []
    },
    {
      "metadata": {
        "trusted": true
      },
      "cell_type": "code",
      "source": "# create a new plot with default tools, using figure\np = figure(plot_width=400, plot_height=400)\n\n# add a circle renderer with x and y coordinates, size, color, and alpha\np.circle([1, 2, 3, 4, 5], [6, 7, 2, 4, 5], size=15, line_color=\"navy\", fill_color=\"orange\", fill_alpha=0.5)\n\nshow(p) # show the results",
      "execution_count": null,
      "outputs": []
    },
    {
      "metadata": {
        "slideshow": {
          "slide_type": "slide"
        },
        "trusted": true
      },
      "cell_type": "code",
      "source": "# create a new plot (with a title) using figure\np = figure(plot_width=400, plot_height=400, title=\"My Line Plot\")\n\n# add a line renderer\np.line([1, 2, 3, 4, 5], [6, 7, 2, 4, 5], line_width=2)\n\nshow(p) # show the results",
      "execution_count": null,
      "outputs": []
    },
    {
      "metadata": {
        "slideshow": {
          "slide_type": "slide"
        },
        "trusted": true
      },
      "cell_type": "code",
      "source": "\n# Here is a list of categorical values (or factors)\nfruits = ['Apples', 'Pears', 'Nectarines', 'Plums', 'Grapes', 'Strawberries']\n\n# Set the x_range to the list of categories above\np = figure(x_range=fruits, plot_height=250, title=\"Fruit Counts\")\n\n# Categorical values can also be used as coordinates\np.vbar(x=fruits, top=[5, 3, 4, 2, 4, 6], width=0.9)\n\n# Set some properties to make the plot look better\np.xgrid.grid_line_color = None\np.y_range.start = 0\n\nshow(p)",
      "execution_count": null,
      "outputs": []
    },
    {
      "metadata": {
        "trusted": true
      },
      "cell_type": "code",
      "source": "\nfrom bokeh.models import ColumnDataSource\nfrom bokeh.palettes import Spectral6\n\nfruits = ['Apples', 'Pears', 'Nectarines', 'Plums', 'Grapes', 'Strawberries']\ncounts = [5, 3, 4, 2, 4, 6]\n\nsource = ColumnDataSource(data=dict(fruits=fruits, counts=counts, color=Spectral6))\n\np = figure(x_range=fruits, plot_height=250, y_range=(0, 9), title=\"Fruit Counts\")\np.vbar(x='fruits', top='counts', width=0.9, color='color', legend=\"fruits\", source=source)\n\np.xgrid.grid_line_color = None\np.legend.orientation = \"horizontal\"\np.legend.location = \"top_center\"\n\nshow(p)",
      "execution_count": null,
      "outputs": []
    },
    {
      "metadata": {
        "trusted": true
      },
      "cell_type": "code",
      "source": "from bokeh.palettes import GnBu3, OrRd3\n\nyears = ['2015', '2016', '2017']\n\nexports = {'fruits' : fruits,\n           '2015'   : [2, 1, 4, 3, 2, 4],\n           '2016'   : [5, 3, 4, 2, 4, 6],\n           '2017'   : [3, 2, 4, 4, 5, 3]}\nimports = {'fruits' : fruits,\n           '2015'   : [-1, 0, -1, -3, -2, -1],\n           '2016'   : [-2, -1, -3, -1, -2, -2],\n           '2017'   : [-1, -2, -1, 0, -2, -2]}\n\np = figure(y_range=fruits, plot_height=250, x_range=(-16, 16), title=\"Fruit import/export, by year\")\n\np.hbar_stack(years, y='fruits', height=0.9, color=GnBu3, source=ColumnDataSource(exports),\n             legend=[\"%s exports\" % x for x in years])\n\np.hbar_stack(years, y='fruits', height=0.9, color=OrRd3, source=ColumnDataSource(imports),\n             legend=[\"%s imports\" % x for x in years])\n\np.y_range.range_padding = 0.1\np.ygrid.grid_line_color = None\np.legend.location = \"center_left\"\n\nshow(p)",
      "execution_count": null,
      "outputs": []
    },
    {
      "metadata": {
        "trusted": true,
        "slideshow": {
          "slide_type": "slide"
        }
      },
      "cell_type": "code",
      "source": "from bokeh.models import HoverTool\n\nsource = ColumnDataSource(\n        data=dict(\n            x=[1, 2, 3, 4, 5],\n            y=[2, 5, 8, 2, 7],\n            desc=['A', 'b', 'C', 'd', 'E'],\n        )\n    )\n\nhover = HoverTool(\n        tooltips=[\n            (\"index\", \"$index\"),\n            (\"(x,y)\", \"($x, $y)\"),\n            (\"desc\", \"@desc\"),\n        ]\n    )\n\np = figure(plot_width=300, plot_height=300, tools=[hover], title=\"Mouse over the dots\")\n\np.circle('x', 'y', size=20, source=source)\n\nshow(p)",
      "execution_count": null,
      "outputs": []
    },
    {
      "metadata": {
        "slideshow": {
          "slide_type": "slide"
        },
        "trusted": true
      },
      "cell_type": "code",
      "source": "# interactor support \n\nfrom ipywidgets import interact\nimport numpy as np\n\nfrom bokeh.io import push_notebook, show, output_notebook\nfrom bokeh.plotting import figure\noutput_notebook()\n\nx = np.linspace(0, 2*np.pi, 2000)\ny = np.sin(x)\n\np = figure(title=\"simple line example\", plot_height=300, plot_width=600, y_range=(-5,5),\n           background_fill_color='#efefef')\nr = p.line(x, y, color=\"#8888cc\", line_width=1.5, alpha=0.8)\n\ndef update(f, w=1, A=1, phi=0):\n    if   f == \"sin\": func = np.sin\n    elif f == \"cos\": func = np.cos\n    r.data_source.data['y'] = A * func(w * x + phi)\n    push_notebook()",
      "execution_count": null,
      "outputs": []
    },
    {
      "metadata": {
        "trusted": true
      },
      "cell_type": "code",
      "source": "show(p, notebook_handle=True)\ninteract(update, f=[\"sin\", \"cos\"], w=(0,50), A=(1,10), phi=(0, 20, 0.1))",
      "execution_count": null,
      "outputs": []
    },
    {
      "metadata": {
        "trusted": true,
        "slideshow": {
          "slide_type": "slide"
        }
      },
      "cell_type": "markdown",
      "source": "###  Requests\n\n* A library for http 1.1 \n\n[http://docs.python-requests.org](http://docs.python-requests.org)\n\n[https://2.python-requests.org/en/master/user/quickstart/](https://2.python-requests.org/en/master/user/quickstart/)\n    "
    },
    {
      "metadata": {
        "trusted": true
      },
      "cell_type": "code",
      "source": "from PIL import Image \nimport matplotlib.pyplot as plt\nimport requests\n# headers.common['x-api-key'] = \"DEMO-API-KEY\"\nr = requests.get('https://api.thecatapi.com/v1/images/search',headers={'x-api-key':\"DEMO-API-KEY\"})\nprint(r.status_code)\nprint(r.headers['content-type']) \nprint(r.json())                  \nurl=r.json()[0]['url']\nprint(url)\n#Image(url)\n\nresponse = requests.get(url, stream=True)\nimg = Image.open(response.raw)\n\nplt.imshow(img)\nplt.show()\n",
      "execution_count": null,
      "outputs": []
    },
    {
      "metadata": {
        "trusted": true
      },
      "cell_type": "code",
      "source": "from IPython.display import Image    \nimport requests\nr = requests.get('https://dog.ceo/api/breeds/image/random')\nprint(r.status_code)\nprint(r.headers['content-type']) \nprint(r.json())                  \nurl=r.json()['message']\nprint(url)\nImage(url,width=300, height=300)\n\n",
      "execution_count": null,
      "outputs": []
    },
    {
      "metadata": {
        "trusted": true,
        "slideshow": {
          "slide_type": "slide"
        }
      },
      "cell_type": "markdown",
      "source": "### Numpy - Numerical Library \n\nLots of mathematical functions \n\n\n[https://www.numpy.org/](https://www.numpy.org/)\n\nSee also SciPy Lecture Notes:\n\n[https://scipy-lectures.org](https://scipy-lectures.org)"
    },
    {
      "metadata": {
        "slideshow": {
          "slide_type": "slide"
        },
        "trusted": true
      },
      "cell_type": "code",
      "source": "# Numpy example -- ex10_01.py\n\nimport numpy as np\n\nx = np.array([[1,2],[3,4]])\ny = np.array([[5,6],[7,8]])\nv = np.array([9,10])\nw = np.array([11, 12])\n# Inner product of vectors; both produce 219\nprint(v.dot(w))\nprint(np.dot(v, w))\n# Matrix / vector product; both produce the rank 1 array [29 67]\nprint(x.dot(v))\nprint(np.dot(x, v))\n# Matrix / matrix product; both produce the rank 2 array\n# [[19 22]\n#  [43 50]]\nprint(x.dot(y))\nprint(np.dot(x, y))",
      "execution_count": null,
      "outputs": []
    },
    {
      "metadata": {
        "slideshow": {
          "slide_type": "slide"
        }
      },
      "cell_type": "markdown",
      "source": "### Pandas \n\nA statistical data analysis library \n\n\n[https://pandas.pydata.org/](https://pandas.pydata.org/)"
    },
    {
      "metadata": {
        "slideshow": {
          "slide_type": "slide"
        },
        "trusted": true
      },
      "cell_type": "code",
      "source": "# install the pandas_datareader package \n# needed for the following example\n\n!pip install pandas_datareader",
      "execution_count": null,
      "outputs": []
    },
    {
      "metadata": {
        "slideshow": {
          "slide_type": "slide"
        },
        "trusted": true
      },
      "cell_type": "code",
      "source": "# read the MSFT (Microsoft) stock quotes from Yahoo since 2019/01/01\n# see the beginning and the end of the data, and a statistical description\n\nimport pandas as pd\nfrom pandas_datareader import data as web\nimport datetime\n\nstart = datetime.datetime(2020, 1, 1)\nmsft = web.DataReader(\"MSFT\",  \"yahoo\", start)\n\nprint(msft.head())\nprint(msft.tail())\nprint(msft.describe())",
      "execution_count": null,
      "outputs": []
    },
    {
      "metadata": {
        "slideshow": {
          "slide_type": "slide"
        },
        "trusted": true
      },
      "cell_type": "code",
      "source": "# read an Excel file \n\nimport pandas as pd\nxl=pd.ExcelFile(\"fich01.xlsx\")\nprint(xl.sheet_names)\ndf = xl.parse(xl.sheet_names[0])  # get the first sheet\nprint(df.head())\nprint(df.corr())   # correlation\nprint(df.mean())\nprint(df.describe())\n",
      "execution_count": null,
      "outputs": []
    },
    {
      "metadata": {
        "slideshow": {
          "slide_type": "slide"
        }
      },
      "cell_type": "markdown",
      "source": "### Issues with Jupyter Notebooks \n\n* Executing cells in a random order \n* Easy to experiment (bad habits)   \n* .ipynb file is a JSON file \n* Integration with version control \n* A good text editor (or IDE) is more helpful/powerful \n* Copy/Paste from/to Notebooks "
    },
    {
      "metadata": {
        "slideshow": {
          "slide_type": "slide"
        }
      },
      "cell_type": "markdown",
      "source": "### Things that are interesting \n\n* Remote graphical access to more powerful computers \n* Ease of use \n* Availability \n* Automatic generation of containers on-demand \n\n**[datalore.io](datalore.io)** \n\n* Autocompletion online \n* Integration with version control (some do it with hooks) \n* Collaborative editing \n* More stuff I don't know about \n"
    },
    {
      "metadata": {
        "slideshow": {
          "slide_type": "slide"
        }
      },
      "cell_type": "markdown",
      "source": "### The End\n"
    }
  ],
  "metadata": {
    "kernelspec": {
      "name": "python36",
      "display_name": "Python 3.6",
      "language": "python"
    },
    "language_info": {
      "mimetype": "text/x-python",
      "nbconvert_exporter": "python",
      "name": "python",
      "pygments_lexer": "ipython3",
      "version": "3.6.6",
      "file_extension": ".py",
      "codemirror_mode": {
        "version": 3,
        "name": "ipython"
      }
    },
    "celltoolbar": "Slideshow"
  },
  "nbformat": 4,
  "nbformat_minor": 2
}