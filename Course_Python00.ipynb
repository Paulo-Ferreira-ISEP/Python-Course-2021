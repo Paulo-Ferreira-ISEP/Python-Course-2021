{
  "cells": [
    {
      "metadata": {
        "collapsed": true,
        "slideshow": {
          "slide_type": "slide"
        }
      },
      "cell_type": "markdown",
      "source": "# Python Crash Course 0/3  \n## DEI/ISEP  April 2020   \n### Paulo Ferreira pdf@isep.ipp.pt\n\n**[https://notebooks.azure.com/pauloferreira](https://notebooks.azure.com/pauloferreira)**"
    },
    {
      "metadata": {
        "slideshow": {
          "slide_type": "slide"
        }
      },
      "cell_type": "markdown",
      "source": "###   What is this? \n\n- This is a Jupiter Notebook\n- It has \"cells\" that are blocks of text "
    },
    {
      "metadata": {
        "slideshow": {
          "slide_type": "slide"
        }
      },
      "cell_type": "markdown",
      "source": "### This is another cell \n\n- You can edit it:\n- To edit a cell select it, click on it (the cell has a blue border) and press Enter\n- In edition mode the cell has a green border\n- To \"execute\" the contents:  Shift-Enter\n\n\nCells can have Markdown text or code \n\n- Markdown reference: https://www.markdownguide.org/basic-syntax/\n"
    },
    {
      "metadata": {
        "slideshow": {
          "slide_type": "slide"
        },
        "trusted": true
      },
      "cell_type": "code",
      "source": "# This is a cell with Python Code \n# when you select it the cell is placed on edit mode (green border) \n# to execute the code: Shift-Enter \n\na=34\nb=a*3+567\nprint(34**b)\n\n# to Clear the results: Menu->Cell-> All Output ->Clear ",
      "execution_count": null,
      "outputs": []
    },
    {
      "metadata": {
        "trusted": true,
        "slideshow": {
          "slide_type": "slide"
        }
      },
      "cell_type": "markdown",
      "source": "### What to do if the notebook hangs? \n\n- Menu -> Kernel -> Interrupt \n- Menu -> Kernel -> Restart "
    },
    {
      "metadata": {
        "trusted": true
      },
      "cell_type": "code",
      "source": "",
      "execution_count": null,
      "outputs": []
    }
  ],
  "metadata": {
    "kernelspec": {
      "name": "python36",
      "display_name": "Python 3.6",
      "language": "python"
    },
    "language_info": {
      "mimetype": "text/x-python",
      "nbconvert_exporter": "python",
      "name": "python",
      "pygments_lexer": "ipython3",
      "version": "3.6.6",
      "file_extension": ".py",
      "codemirror_mode": {
        "version": 3,
        "name": "ipython"
      }
    },
    "celltoolbar": "Slideshow"
  },
  "nbformat": 4,
  "nbformat_minor": 2
}