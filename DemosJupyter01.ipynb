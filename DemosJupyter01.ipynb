{
  "cells": [
    {
      "metadata": {
        "collapsed": true,
        "slideshow": {
          "slide_type": "slide"
        }
      },
      "cell_type": "markdown",
      "source": "# Jupyter Notebooks  - 1/2 \n## DEI/ISEP  April 2020    \n### Paulo Ferreira pdf@isep.ipp.pt\n\n**[https://notebooks.azure.com/pauloferreira](https://notebooks.azure.com/pauloferreira)**"
    },
    {
      "metadata": {
        "slideshow": {
          "slide_type": "slide"
        }
      },
      "cell_type": "markdown",
      "source": "### Long, long  time ago... \n\t10 LET A=1\n\t20 PRINT A \n\t30 LET A=A+1 \n\t40 GOTO 20\n\t"
    },
    {
      "metadata": {
        "slideshow": {
          "slide_type": "slide"
        }
      },
      "cell_type": "markdown",
      "source": "### Why was this good? \n\n* Interpreters\n* Not installing any software\n* Fast feedback\t\n* Everything in one file "
    },
    {
      "metadata": {
        "slideshow": {
          "slide_type": "slide"
        }
      },
      "cell_type": "markdown",
      "source": "### Can we have the 1980's back?\n\n* On the Web? \n* With graphics? \n* With a nice programming language? \n* And lots of libraries? "
    },
    {
      "metadata": {
        "slideshow": {
          "slide_type": "slide"
        }
      },
      "cell_type": "markdown",
      "source": "### Python \n\n* A nice programming language \n* Interactive Mode (IPython)  \n* R [https://www.r-project.org](https://www.r-project.org)\n* Julia [https://julialang.org](https://julialang.org) \n* Ju & Py & R "
    },
    {
      "metadata": {
        "slideshow": {
          "slide_type": "slide"
        }
      },
      "cell_type": "markdown",
      "source": "### Jupyter Notebooks\n\n* Like in a research notebook \n* Everything in one file \n* Scientific data should be reproducible\n* Scientific data shoud be shareable "
    },
    {
      "metadata": {
        "slideshow": {
          "slide_type": "slide"
        }
      },
      "cell_type": "markdown",
      "source": "### Kernel \n\n![kernel](images/ipy_kernel_and_terminal.png)"
    },
    {
      "metadata": {
        "slideshow": {
          "slide_type": "slide"
        }
      },
      "cell_type": "markdown",
      "source": "### Types of Kernels \n![Types of Kernels](images/other_kernels.png)"
    },
    {
      "metadata": {
        "slideshow": {
          "slide_type": "slide"
        }
      },
      "cell_type": "markdown",
      "source": "### Jupyter Architecture \n\n![Jupyter Architecture](images/notebook_components.png)\n\n* Images take _(stolen)_ from the Jupyter Official Docs\n* Notebook file: .ipynb is a JSON file  "
    },
    {
      "metadata": {
        "slideshow": {
          "slide_type": "slide"
        }
      },
      "cell_type": "markdown",
      "source": "### Local Jupyter Notebooks \n\n- Install [Anaconda](https://www.anaconda.com/distribution/) \n- On the command line: \n\n\t\t\tjupyter notebook\n\t\t\t \t\n* Really a local webserver at **http://localhost:8888**"
    },
    {
      "metadata": {
        "slideshow": {
          "slide_type": "slide"
        }
      },
      "cell_type": "markdown",
      "source": "### Docker \n\n* Choose your image from: \n[https://jupyter-docker-stacks.readthedocs.io/en/latest/using/selecting.html](https://jupyter-docker-stacks.readthedocs.io/en/latest/using/selecting.html)\n "
    },
    {
      "metadata": {
        "slideshow": {
          "slide_type": "slide"
        }
      },
      "cell_type": "markdown",
      "source": "###  Jupyter Hub \n\n- For lots of users: [https://jupyter.org/hub](https://jupyter.org/hub)"
    },
    {
      "metadata": {
        "slideshow": {
          "slide_type": "slide"
        }
      },
      "cell_type": "markdown",
      "source": "###  Binder \n* [https://mybinder.org](https://mybinder.org)\n\n1. From a git notebook repository address \n2. Binder builds a docker image with all the requirements\n3. It starts a server on JupyterHub \t\n\n* Requirements: \n\n\t \trequirements.txt \n\t \tenvironment.yml "
    },
    {
      "metadata": {
        "slideshow": {
          "slide_type": "slide"
        }
      },
      "cell_type": "markdown",
      "source": "### On the Web \n* Jetbrains: [https://datalore.io](https://datalore.io)\n* Cocalc [https://cocalc.com](https://cocalc.com)\n* Colaboratory [https://colab.research.google.com](https://colab.research.google.com)\n* IBM Watson Studio [https://www.ibm.com/uk-en/marketplace/watson-studio](https://www.ibm.com/uk-en/marketplace/watson-studio)\n* Microsoft Azure [https://notebooks.azure.com](https://notebooks.azure.com)"
    },
    {
      "metadata": {
        "slideshow": {
          "slide_type": "slide"
        }
      },
      "cell_type": "markdown",
      "source": "### Azure \n\n* We already have accounts created:\n\n   xxx@isep.ipp.pt\n\n* Supports R, Python and F#     \n* Runs on Linux...\n* These slides are there and were made with Jupyter    \n* Login, and create a porject and a notebook inside  \n* Select _Python 3.6_ as the language"
    },
    {
      "metadata": {
        "slideshow": {
          "slide_type": "slide"
        }
      },
      "cell_type": "markdown",
      "source": "### Cells \n    \nA Jupyter notebook is organized into cells, and each cell we can choose between:\n\n1. Code \n2. Text (in Markdown -- see Cheat Sheet on the end of this notebook ) \n3. Headings     "
    },
    {
      "metadata": {
        "slideshow": {
          "slide_type": "slide"
        }
      },
      "cell_type": "markdown",
      "source": "\t \t\n###  Live Try\n\n* Insert a Text Cell \n* Insert a Code Cell \n* Run the Code Cell "
    },
    {
      "metadata": {
        "slideshow": {
          "slide_type": "slide"
        }
      },
      "cell_type": "markdown",
      "source": "\t \t\n### Sample text cell \n\n_italic_ \n\n__bold__\n\n- item 1\n- item 2 \n\n1. First \n3. Second \n5. Third \n\n```python\n\tvar=1\n\tprint(var)\n\tvar=\"text\"\n\tprint(var) \t \t \n```\t \t\npython\n\tvar=1\n\tprint(var)\n\tvar=\"text\"\n\tprint(var) \n\t"
    },
    {
      "metadata": {
        "slideshow": {
          "slide_type": "slide"
        }
      },
      "cell_type": "markdown",
      "source": "### Menus \n\n* File \n* Edit \n* View \n* Insert \n* Cell \n* Kernel \n* Azure \n* Widgets \n* Help "
    },
    {
      "metadata": {
        "slideshow": {
          "slide_type": "slide"
        }
      },
      "cell_type": "markdown",
      "source": "\t\n### Menu tips \n\t\n* __Help__ Is very nice! \t\t\n* __Kernel__ Should be running\n* __Cell__ Runs a cell (or more) and changes the type of a cell  \n* __Edit__ Has two nice options \n\t- __Split Cell__  Paste a lot of text and then split cell\n\t- __Insert Image__     \n\t \t \t\n\t \t \t"
    },
    {
      "metadata": {
        "slideshow": {
          "slide_type": "slide"
        }
      },
      "cell_type": "markdown",
      "source": "\t \t\n\n\n### Markdown Cheat Sheet \n\n* Taken from [My Memory Sucks](https://mymemorysucks.wordpress.com/2018/03/04/markdown-cheat-sheet/)\n***\n# title\n\\# title\n## major headings\n\\## major headings\n### subheadings\n\\### subheadings\n#### 4th level subheadings\n\\#### 4th level subheadings\n\ntab &nbsp;&nbsp;&nbsp;&nbsp; (have to use inline HTML as markdown doesn't have tab)\n\n\\> quote\n> quote\n\n__bold__    \\_\\_bold\\_\\_ or \\*\\*bold\\*\\*\n\n_italic_    \\_italic\\_ or \\*italic\\*\n\n\\    (for escaping markdown characters)\n\n&lt;br&gt;    (for manual linebreaks)\n\n- \"- \"    (a dash and a space for a bullet)\n  - \"  - \"    (indent a dash and a space with two spaces for a sub bullet)\n    - \"    - \"    (indent a dash and a space with four spaces for a sub sub bullet)\n\n***\n\\*\\*\\*    (horizontal line)\n\n1. \"1\\. \"    (number, period and a space for a numbered list)\n   - \"   - \"    (indent a dash and a space with three spaces for a sub bullet after a numbered list)\n\n`inline code`    \\`inline code\\`\n\n\\`\\`\\`javascript\n/\\*code block with syntax highlighting\\*/\nvar myInt = 0;\n\\`\\`\\`\n```javascript\n/*code block with syntax highlighting*/\nvar myInt = 0;\n```\n\n[link to WikiPedia](https://en.wikipedia.org/wiki/Main_Page)    \\[link to WikiPedia\\](https://en.wikipedia.org/wiki/Main_Page)\n\n[link to Relative Location](README.md)    \\[link to Relative Location\\]\\(README.md\\)"
    }
  ],
  "metadata": {
    "kernelspec": {
      "name": "python36",
      "display_name": "Python 3.6",
      "language": "python"
    },
    "language_info": {
      "mimetype": "text/x-python",
      "nbconvert_exporter": "python",
      "name": "python",
      "pygments_lexer": "ipython3",
      "version": "3.6.6",
      "file_extension": ".py",
      "codemirror_mode": {
        "version": 3,
        "name": "ipython"
      }
    },
    "celltoolbar": "Slideshow"
  },
  "nbformat": 4,
  "nbformat_minor": 2
}