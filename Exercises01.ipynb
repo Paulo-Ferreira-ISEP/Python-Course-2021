{
  "cells": [
    {
      "metadata": {
        "collapsed": true
      },
      "cell_type": "markdown",
      "source": "# Exercises about programming 01 "
    },
    {
      "metadata": {},
      "cell_type": "markdown",
      "source": "#### a)\n\nThis is the code for a function that adds two numbers, and also has the associated tests in the string before the definition. "
    },
    {
      "metadata": {
        "trusted": true
      },
      "cell_type": "code",
      "source": "# please correct the tests \ndef add(a, b):\n    '''\n    This is a test:\n    >>> add(2, 2)\n    4\n    >>> add(1, -1)\n    0\n    >>> add(3, 3)\n    5\n    '''\n    return a + b",
      "execution_count": null,
      "outputs": []
    },
    {
      "metadata": {},
      "cell_type": "markdown",
      "source": "#### b)\n\nThis is the code for a function that subtracts two numbers, and also has the associated tests in the string before the definition. "
    },
    {
      "metadata": {
        "trusted": true
      },
      "cell_type": "code",
      "source": "# please correct the code\ndef sub(a, b):\n    '''\n    This is a test:\n    >>> sub(2, 2)\n    0\n    >>> sub(1, -1)\n    2\n    >>> sub(3, 6)\n    -3\n    '''\n    return a + b",
      "execution_count": null,
      "outputs": []
    },
    {
      "metadata": {},
      "cell_type": "markdown",
      "source": "#### c)\n\nThis is the code for a function that returns the greater of three numbers"
    },
    {
      "metadata": {
        "trusted": true
      },
      "cell_type": "code",
      "source": "# the code and the tests are correct\ndef greater(a, b, c):\n    '''\n    This is a test:\n    >>> greater(0, 0, 0)\n    0\n    >>> greater(-2, -3, -1)\n    -1\n    >>> greater(6, 5, 4)\n    6\n    '''\n    if a>=b and a>=c: \n            return a\n    if b>=a and b>=c: \n            return b\n    if c>=a and c>=b: \n            return c ",
      "execution_count": null,
      "outputs": []
    },
    {
      "metadata": {
        "trusted": true
      },
      "cell_type": "code",
      "source": "import doctest\ndoctest.testmod(verbose=True)",
      "execution_count": null,
      "outputs": []
    },
    {
      "metadata": {
        "trusted": true
      },
      "cell_type": "code",
      "source": "",
      "execution_count": null,
      "outputs": []
    }
  ],
  "metadata": {
    "kernelspec": {
      "name": "python36",
      "display_name": "Python 3.6",
      "language": "python"
    },
    "language_info": {
      "mimetype": "text/x-python",
      "nbconvert_exporter": "python",
      "name": "python",
      "pygments_lexer": "ipython3",
      "version": "3.6.6",
      "file_extension": ".py",
      "codemirror_mode": {
        "version": 3,
        "name": "ipython"
      }
    }
  },
  "nbformat": 4,
  "nbformat_minor": 2
}